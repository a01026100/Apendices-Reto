{
  "cells": [
    {
      "cell_type": "markdown",
      "metadata": {
        "id": "vMihMT9KyeRK"
      },
      "source": [
        "# LIBRERIAS"
      ]
    },
    {
      "cell_type": "code",
      "execution_count": null,
      "metadata": {
        "id": "7BYwMs3yPtP9"
      },
      "outputs": [],
      "source": [
        "import pandas as pd\n",
        "import random"
      ]
    },
    {
      "cell_type": "markdown",
      "metadata": {
        "id": "eNtSzYl1yky6"
      },
      "source": [
        "# CODIGO CON ITERACIONES"
      ]
    },
    {
      "cell_type": "code",
      "execution_count": null,
      "metadata": {
        "id": "hqj0YW571IgG"
      },
      "outputs": [],
      "source": [
        "def organizar_entregas(C):\n",
        "    C = C.sort_values(by=' Fecha Limite').reset_index(drop=True)\n",
        "    return C\n",
        "\n",
        "def seleccion_aleatoria(C):\n",
        "    C = organizar_entregas(C)\n",
        "    pesos = [1 / (i + 1) for i in range(len(C))]\n",
        "    Orden_utilizado = []\n",
        "    indices_disponibles = list(range(len(C)))\n",
        "    C_ordenado = pd.DataFrame(columns=C.columns)\n",
        "\n",
        "    while indices_disponibles:\n",
        "        pesos_disponibles = [pesos[i] for i in indices_disponibles]\n",
        "        total_pesos = sum(pesos_disponibles)\n",
        "        probabilidades = [p / total_pesos for p in pesos_disponibles]\n",
        "        numero_seleccionado = random.choices(indices_disponibles, weights=probabilidades, k=1)[0]\n",
        "        Orden_utilizado.append(numero_seleccionado)\n",
        "        C_ordenado = pd.concat([C_ordenado, C.iloc[[numero_seleccionado]]])\n",
        "        indices_disponibles.remove(numero_seleccionado)\n",
        "    return C_ordenado\n",
        "\n",
        "def preprocesar_rates(df2):\n",
        "    rates = {}\n",
        "    for _, row in df2.iterrows():\n",
        "        rates[(row['IdMaquina'], row['IdProducto'])] = row['Rate']\n",
        "    return rates\n",
        "\n",
        "\n",
        "\n",
        "def acomodo(df, df2):\n",
        "    maquinas_fase1 = {0: 0, 1: 0, 2: 0}\n",
        "    hornos = {3: 0, 4: 0}\n",
        "    maquinas_fase3 = {5: 0, 6: 0, 7: 0}\n",
        "\n",
        "    last_product_fase1 = {0: None, 1: None, 2: None}\n",
        "    last_product_fase2 = {3: None, 4: None}\n",
        "    last_product_fase3 = {5: None, 6: None, 7: None}\n",
        "\n",
        "    hora_inicio = 0\n",
        "    hora_limite = 16\n",
        "    dia_actual = 0\n",
        "    pedidos_tardios = 0\n",
        "\n",
        "    set_up_maquina_misma = 0.25\n",
        "    set_up_maquina_distinta = 0.5\n",
        "    set_up_horno_misma = 0.75\n",
        "    set_up_horno_distinta = 1\n",
        "\n",
        "    rates = preprocesar_rates(df2)\n",
        "    rutas_pedidos = []\n",
        "\n",
        "    dias_semana = [\"Lunes\", \"Martes\", \"Miercoles\", \"Jueves\", \"Viernes\", \"Sabado\", \"Domingo\"]\n",
        "\n",
        "    for i, pedido in df.iterrows():\n",
        "        id_producto = pedido[' IdProducto']\n",
        "        cantidad = pedido['Cantidad']\n",
        "        fecha_limite = pedido[' Fecha Limite']\n",
        "\n",
        "        maquina_fase1 = min(maquinas_fase1, key=maquinas_fase1.get)\n",
        "        setup_time_fase1 = set_up_maquina_distinta if last_product_fase1[maquina_fase1] not in (None, id_producto) else set_up_maquina_misma\n",
        "        tiempo_fase1 = cantidad / rates.get((maquina_fase1, id_producto), 0) + setup_time_fase1\n",
        "        inicio_fase1 = maquinas_fase1[maquina_fase1]\n",
        "        fin_fase1 = inicio_fase1 + tiempo_fase1\n",
        "        maquinas_fase1[maquina_fase1] += tiempo_fase1\n",
        "        last_product_fase1[maquina_fase1] = id_producto\n",
        "\n",
        "        horno = min(hornos, key=hornos.get)\n",
        "        setup_time_fase2 = set_up_horno_distinta if last_product_fase2[horno] not in (None, id_producto) else set_up_horno_misma\n",
        "        inicio_fase2 = max(hornos[horno], fin_fase1)\n",
        "        tiempo_fase2 = cantidad / rates.get((horno, id_producto), 0) + setup_time_fase2\n",
        "        fin_fase2 = inicio_fase2 + tiempo_fase2\n",
        "        hornos[horno] = fin_fase2\n",
        "        last_product_fase2[horno] = id_producto\n",
        "\n",
        "        maquina_fase3 = min(maquinas_fase3, key=maquinas_fase3.get)\n",
        "        setup_time_fase3 = set_up_maquina_distinta if last_product_fase3[maquina_fase3] not in (None, id_producto) else set_up_maquina_misma\n",
        "        inicio_fase3 = max(maquinas_fase3[maquina_fase3], fin_fase2)\n",
        "        tiempo_fase3 = cantidad / rates.get((maquina_fase3, id_producto), 0) + setup_time_fase3\n",
        "        fin_fase3 = inicio_fase3 + tiempo_fase3\n",
        "        maquinas_fase3[maquina_fase3] = fin_fase3\n",
        "        last_product_fase3[maquina_fase3] = id_producto\n",
        "\n",
        "        hora_entrega = fin_fase3\n",
        "\n",
        "        if hora_entrega > hora_limite:\n",
        "            dia_actual += 1\n",
        "            maquinas_fase1 = {k: 0 for k in maquinas_fase1}\n",
        "            hornos = {k: 0 for k in hornos}\n",
        "            maquinas_fase3 = {k: 0 for k in maquinas_fase3}\n",
        "            last_product_fase1 = {k: None for k in last_product_fase1}\n",
        "            last_product_fase2 = {k: None for k in last_product_fase2}\n",
        "            last_product_fase3 = {k: None for k in last_product_fase3}\n",
        "            hora_inicio = 0\n",
        "            hora_limite = 16\n",
        "            hora_entrega = fin_fase3\n",
        "            maquina_fase1 = min(maquinas_fase1, key=maquinas_fase1.get)\n",
        "            setup_time_fase1 = set_up_maquina_distinta if last_product_fase1[maquina_fase1] not in (None, id_producto) else set_up_maquina_misma\n",
        "            tiempo_fase1 = cantidad / rates.get((maquina_fase1, id_producto), 0) + setup_time_fase1\n",
        "            inicio_fase1 = maquinas_fase1[maquina_fase1]\n",
        "            fin_fase1 = inicio_fase1 + tiempo_fase1\n",
        "            maquinas_fase1[maquina_fase1] += tiempo_fase1\n",
        "            last_product_fase1[maquina_fase1] = id_producto\n",
        "            horno = min(hornos, key=hornos.get)\n",
        "            setup_time_fase2 = set_up_horno_distinta if last_product_fase2[horno] not in (None, id_producto) else set_up_horno_misma\n",
        "            inicio_fase2 = max(hornos[horno], fin_fase1)\n",
        "            tiempo_fase2 = cantidad / rates.get((horno, id_producto), 0) + setup_time_fase2\n",
        "            fin_fase2 = inicio_fase2 + tiempo_fase2\n",
        "            hornos[horno] = fin_fase2\n",
        "            last_product_fase2[horno] = id_producto\n",
        "            maquina_fase3 = min(maquinas_fase3, key=maquinas_fase3.get)\n",
        "            setup_time_fase3 = set_up_maquina_distinta if last_product_fase3[maquina_fase3] not in (None, id_producto) else set_up_maquina_misma\n",
        "            inicio_fase3 = max(maquinas_fase3[maquina_fase3], fin_fase2)\n",
        "            tiempo_fase3 = cantidad / rates.get((maquina_fase3, id_producto), 0) + setup_time_fase3\n",
        "            fin_fase3 = inicio_fase3 + tiempo_fase3\n",
        "            maquinas_fase3[maquina_fase3] = fin_fase3\n",
        "            last_product_fase3[maquina_fase3] = id_producto\n",
        "\n",
        "\n",
        "        estatus = \"a tiempo\" if dia_actual <= fecha_limite else \"entrega tardia\"\n",
        "        if estatus == \"entrega tardia\":\n",
        "            pedidos_tardios += 1\n",
        "\n",
        "        dia_inicio_nombre = dias_semana[dia_actual % 7]\n",
        "        hora_inicio_fase1_ajustada = inicio_fase1 + 6\n",
        "        hora_fin_fase1_ajustada = fin_fase1 + 6\n",
        "        hora_inicio_fase2_ajustada = inicio_fase2 + 6\n",
        "        hora_fin_fase2_ajustada = fin_fase2 + 6\n",
        "        hora_inicio_fase3_ajustada = inicio_fase3 + 6\n",
        "        hora_fin_fase3_ajustada = fin_fase3 + 6\n",
        "\n",
        "        def formato_hora(hora):\n",
        "            return f\"{int(hora):02d}:{int((hora % 1) * 60):02d}\"\n",
        "\n",
        "        ruta = {\n",
        "            \"Numero de pedido\": pedido['IdExperimento'],\n",
        "            \"Dia de inicio\": dia_inicio_nombre,\n",
        "            \"Maquina Fase 1\": f\"Maquina {maquina_fase1}\",\n",
        "            \"Fase 1 Hora de Inicio\": formato_hora(hora_inicio_fase1_ajustada),\n",
        "            \"Fase 1 Hora de Fin\": formato_hora(hora_fin_fase1_ajustada),\n",
        "            \"Horno Fase 2\": f\"Horno {horno}\",\n",
        "            \"Fase 2 Hora de Inicio\": formato_hora(hora_inicio_fase2_ajustada),\n",
        "            \"Fase 2 Hora de Fin\": formato_hora(hora_fin_fase2_ajustada),\n",
        "            \"Maquina Fase 3\": f\"Maquina {maquina_fase3}\",\n",
        "            \"Fase 3 Hora de Inicio\": formato_hora(hora_inicio_fase3_ajustada),\n",
        "            \"Fase 3 Hora de Fin\": formato_hora(hora_fin_fase3_ajustada),\n",
        "            \"Dia de salida\": dia_inicio_nombre,\n",
        "            \"Hora de salida\": formato_hora(hora_fin_fase3_ajustada),\n",
        "            \"Estatus\": estatus\n",
        "        }\n",
        "        rutas_pedidos.append(ruta)\n",
        "\n",
        "    return pedidos_tardios, rutas_pedidos\n",
        "\n",
        "\n",
        "def iteraciones(df, df2, max_iteraciones=10000):\n",
        "    mejor_solucion = None\n",
        "    menor_tardios = float('inf')\n",
        "    for _ in range(max_iteraciones):\n",
        "        pedidos_aleatorios = seleccion_aleatoria(df)\n",
        "        pedidos_tardios, rutas = acomodo(pedidos_aleatorios, df2)\n",
        "        if pedidos_tardios < menor_tardios:\n",
        "            menor_tardios = pedidos_tardios\n",
        "            mejor_solucion = rutas\n",
        "        if pedidos_tardios == 0:\n",
        "            break\n",
        "    print(f\"\\nMejor solución encontrada con {menor_tardios} pedidos tardíos\")\n",
        "    if mejor_solucion:\n",
        "        rutas_df = pd.DataFrame(mejor_solucion)\n",
        "        print(rutas_df)\n",
        "        rutas_df.to_csv('rutas.csv', index=False)\n"
      ]
    },
    {
      "cell_type": "markdown",
      "metadata": {
        "id": "Buo2lGBtwNSD"
      },
      "source": [
        "# PRUEBA CON POCOS PEDIDOS\n",
        "\n",
        "MAXIMO 10 POR PEDIDO\n",
        "\n",
        "14 PEDIDOS\n",
        "\n",
        "14 PRODUCTOS\n",
        "\n",
        "RATE MAQUINAS (10-20)\n",
        "\n",
        "RATE HORNOS (5-9)"
      ]
    },
    {
      "cell_type": "code",
      "execution_count": null,
      "metadata": {
        "colab": {
          "base_uri": "https://localhost:8080/"
        },
        "id": "3YqQjC23wQQR",
        "outputId": "6509716e-4425-492b-f689-7ca2663a6f7e"
      },
      "outputs": [
        {
          "output_type": "stream",
          "name": "stdout",
          "text": [
            "    IdExperimento  Cantidad   Fecha Limite   IdProducto\n",
            "0               0         2              2            0\n",
            "1               1         8              4           10\n",
            "2               2         5              6            0\n",
            "3               3         9              6            6\n",
            "4               4         7              4            7\n",
            "5               5         3              3           10\n",
            "6               6         3              5            7\n",
            "7               7         2              1            4\n",
            "8               8         9              2            3\n",
            "9               9         2              4           12\n",
            "10             10         4              3            1\n",
            "11             11         6              4            4\n",
            "12             12         9              2            5\n",
            "13             13         2              4            9\n"
          ]
        }
      ],
      "source": [
        "df = pd.read_csv('PEDIDOS1.csv')\n",
        "df.drop(\"IdPedido\",axis = 1,inplace=True)\n",
        "print(df)"
      ]
    },
    {
      "cell_type": "code",
      "execution_count": null,
      "metadata": {
        "colab": {
          "base_uri": "https://localhost:8080/"
        },
        "id": "tsNfzUSHwR8r",
        "outputId": "db6adfa7-934d-492c-9b0a-8e587a83fb07"
      },
      "outputs": [
        {
          "output_type": "stream",
          "name": "stdout",
          "text": [
            "     IdMaquina  IdProducto  Rate\n",
            "0            0           0    19\n",
            "1            0           1    10\n",
            "2            0           2    15\n",
            "3            0           3    14\n",
            "4            0           4    12\n",
            "..         ...         ...   ...\n",
            "107          7           9    12\n",
            "108          7          10    17\n",
            "109          7          11    12\n",
            "110          7          12    13\n",
            "111          7          13    15\n",
            "\n",
            "[112 rows x 3 columns]\n"
          ]
        }
      ],
      "source": [
        "df2 = pd.read_csv('RATES1.csv')\n",
        "print(df2)"
      ]
    },
    {
      "cell_type": "code",
      "execution_count": null,
      "metadata": {
        "colab": {
          "base_uri": "https://localhost:8080/"
        },
        "id": "fyIbSI2oy1o0",
        "outputId": "80df6779-f576-4c9c-80f6-c17d550b4233"
      },
      "outputs": [
        {
          "output_type": "stream",
          "name": "stdout",
          "text": [
            "\n",
            "Mejor solución encontrada con 0 pedidos tardíos\n",
            "    Numero de pedido Dia de inicio Maquina Fase 1 Fase 1 Hora de Inicio  \\\n",
            "0                  7         Lunes      Maquina 0                 06:00   \n",
            "1                 11         Lunes      Maquina 1                 06:00   \n",
            "2                  0         Lunes      Maquina 2                 06:00   \n",
            "3                 10         Lunes      Maquina 0                 06:25   \n",
            "4                  3         Lunes      Maquina 2                 06:27   \n",
            "5                  6         Lunes      Maquina 1                 06:50   \n",
            "6                 12         Lunes      Maquina 0                 07:18   \n",
            "7                  9         Lunes      Maquina 1                 07:34   \n",
            "8                  8         Lunes      Maquina 2                 07:38   \n",
            "9                  4         Lunes      Maquina 1                 08:11   \n",
            "10                 1         Lunes      Maquina 0                 08:18   \n",
            "11                 5         Lunes      Maquina 2                 08:38   \n",
            "12                 2         Lunes      Maquina 1                 09:14   \n",
            "13                13         Lunes      Maquina 0                 09:15   \n",
            "\n",
            "   Fase 1 Hora de Fin Horno Fase 2 Fase 2 Hora de Inicio Fase 2 Hora de Fin  \\\n",
            "0               06:25      Horno 3                 06:25              07:27   \n",
            "1               06:50      Horno 4                 06:50              08:35   \n",
            "2               06:27      Horno 3                 07:27              08:47   \n",
            "3               07:18      Horno 4                 08:35              10:15   \n",
            "4               07:38      Horno 3                 08:47              10:54   \n",
            "5               07:34      Horno 4                 10:15              11:52   \n",
            "6               08:18      Horno 3                 10:54              13:11   \n",
            "7               08:11      Horno 4                 11:52              13:07   \n",
            "8               08:38      Horno 4                 13:07              15:14   \n",
            "9               09:14      Horno 3                 13:11              15:04   \n",
            "10              09:15      Horno 3                 15:04              17:04   \n",
            "11              09:21      Horno 4                 15:14              16:40   \n",
            "12              10:00      Horno 4                 16:40              18:17   \n",
            "13              09:55      Horno 3                 17:04              18:24   \n",
            "\n",
            "   Maquina Fase 3 Fase 3 Hora de Inicio Fase 3 Hora de Fin Dia de salida  \\\n",
            "0       Maquina 5                 07:27              07:51         Lunes   \n",
            "1       Maquina 6                 08:35              09:09         Lunes   \n",
            "2       Maquina 7                 08:47              09:08         Lunes   \n",
            "3       Maquina 5                 10:15              11:10         Lunes   \n",
            "4       Maquina 7                 10:54              12:13         Lunes   \n",
            "5       Maquina 6                 11:52              12:34         Lunes   \n",
            "6       Maquina 5                 13:11              14:10         Lunes   \n",
            "7       Maquina 7                 13:07              13:46         Lunes   \n",
            "8       Maquina 6                 15:14              16:23         Lunes   \n",
            "9       Maquina 7                 15:04              16:09         Lunes   \n",
            "10      Maquina 5                 17:04              18:06         Lunes   \n",
            "11      Maquina 7                 16:40              17:20         Lunes   \n",
            "12      Maquina 6                 18:17              19:12         Lunes   \n",
            "13      Maquina 7                 18:24              19:04         Lunes   \n",
            "\n",
            "   Hora de salida   Estatus  \n",
            "0           07:51  a tiempo  \n",
            "1           09:09  a tiempo  \n",
            "2           09:08  a tiempo  \n",
            "3           11:10  a tiempo  \n",
            "4           12:13  a tiempo  \n",
            "5           12:34  a tiempo  \n",
            "6           14:10  a tiempo  \n",
            "7           13:46  a tiempo  \n",
            "8           16:23  a tiempo  \n",
            "9           16:09  a tiempo  \n",
            "10          18:06  a tiempo  \n",
            "11          17:20  a tiempo  \n",
            "12          19:12  a tiempo  \n",
            "13          19:04  a tiempo  \n"
          ]
        }
      ],
      "source": [
        "pedidos_aleatorios = seleccion_aleatoria(df)\n",
        "iteraciones(pedidos_aleatorios, df2, max_iteraciones=100)"
      ]
    },
    {
      "cell_type": "markdown",
      "metadata": {
        "id": "K8Cf653hzoZ8"
      },
      "source": [
        "# PRUEBA CON PEDIDOS MODERADOS\n",
        "\n",
        "MAXIMO 15 POR PEDIDO\n",
        "\n",
        "35 PEDIDOS\n",
        "\n",
        "14 PRODUCTOS\n",
        "\n",
        "RATE MAQUINAS (10-20)\n",
        "\n",
        "RATE HORNOS (4-8)"
      ]
    },
    {
      "cell_type": "code",
      "execution_count": null,
      "metadata": {
        "colab": {
          "base_uri": "https://localhost:8080/"
        },
        "id": "CyP36oFwz38v",
        "outputId": "c1d0dc5c-d51a-4bc3-e692-d64d9801a6f5"
      },
      "outputs": [
        {
          "output_type": "stream",
          "name": "stdout",
          "text": [
            "    IdExperimento  Cantidad   Fecha Limite   IdProducto\n",
            "0               0         8              2            6\n",
            "1               1        13              5            9\n",
            "2               2         9              4            9\n",
            "3               3         1              0           11\n",
            "4               4         9              6            0\n",
            "5               5         4              5            1\n",
            "6               6        11              2           13\n",
            "7               7        12              5           13\n",
            "8               8         3              4            5\n",
            "9               9         6              4            2\n",
            "10             10        11              1            2\n",
            "11             11        12              0            1\n",
            "12             12        13              2            0\n",
            "13             13        13              6            9\n",
            "14             14         2              6            9\n",
            "15             15         8              5            5\n",
            "16             16        12              3           13\n",
            "17             17         9              4            3\n",
            "18             18        12              5            0\n",
            "19             19         2              5            1\n",
            "20             20        10              0            2\n",
            "21             21         4              3            9\n",
            "22             22        14              1            2\n",
            "23             23         3              6            7\n",
            "24             24        11              6            3\n",
            "25             25         8              3            1\n",
            "26             26         7              5           12\n",
            "27             27         3              6            0\n",
            "28             28        14              1           12\n",
            "29             29        13              2            6\n",
            "30             30         7              0            8\n",
            "31             31         3              3            6\n",
            "32             32         6              4           10\n",
            "33             33         9              4           12\n",
            "34             34         9              6            6\n"
          ]
        }
      ],
      "source": [
        "df3 = pd.read_csv('PEDIDOS2.csv')\n",
        "df3.drop(\"IdPedido\",axis = 1,inplace=True)\n",
        "print(df3)"
      ]
    },
    {
      "cell_type": "code",
      "execution_count": null,
      "metadata": {
        "colab": {
          "base_uri": "https://localhost:8080/"
        },
        "id": "LXQn8epBz38w",
        "outputId": "3dc8c2fe-58d6-4513-8709-809187a251ec"
      },
      "outputs": [
        {
          "output_type": "stream",
          "name": "stdout",
          "text": [
            "     IdMaquina  IdProducto  Rate\n",
            "0            0           0    12\n",
            "1            0           1    10\n",
            "2            0           2    14\n",
            "3            0           3    19\n",
            "4            0           4    10\n",
            "..         ...         ...   ...\n",
            "107          7           9    13\n",
            "108          7          10    18\n",
            "109          7          11    13\n",
            "110          7          12    11\n",
            "111          7          13    18\n",
            "\n",
            "[112 rows x 3 columns]\n"
          ]
        }
      ],
      "source": [
        "df4 = pd.read_csv('RATES2.csv')\n",
        "print(df4)"
      ]
    },
    {
      "cell_type": "code",
      "execution_count": null,
      "metadata": {
        "colab": {
          "base_uri": "https://localhost:8080/"
        },
        "id": "kFCAibzcz38w",
        "outputId": "f89b3f9f-500b-4e7c-8238-e45644662b71"
      },
      "outputs": [
        {
          "output_type": "stream",
          "name": "stdout",
          "text": [
            "\n",
            "Mejor solución encontrada con 0 pedidos tardíos\n",
            "    Numero de pedido Dia de inicio Maquina Fase 1 Fase 1 Hora de Inicio  \\\n",
            "0                 11         Lunes      Maquina 0                 06:00   \n",
            "1                  3         Lunes      Maquina 1                 06:00   \n",
            "2                 10         Lunes      Maquina 2                 06:00   \n",
            "3                 12         Lunes      Maquina 1                 06:18   \n",
            "4                 19         Lunes      Maquina 2                 07:15   \n",
            "5                  6         Lunes      Maquina 0                 07:27   \n",
            "6                 20         Lunes      Maquina 1                 07:29   \n",
            "7                 30         Lunes      Maquina 2                 07:55   \n",
            "8                  1         Lunes      Maquina 1                 08:42   \n",
            "9                 29        Martes      Maquina 0                 06:00   \n",
            "10                31        Martes      Maquina 1                 06:00   \n",
            "11                21        Martes      Maquina 2                 06:00   \n",
            "12                22        Martes      Maquina 1                 06:26   \n",
            "13                25        Martes      Maquina 2                 06:33   \n",
            "14                28        Martes      Maquina 0                 07:19   \n",
            "15                17        Martes      Maquina 2                 07:47   \n",
            "16                18     Miercoles      Maquina 0                 06:00   \n",
            "17                 0     Miercoles      Maquina 1                 06:00   \n",
            "18                15     Miercoles      Maquina 2                 06:00   \n",
            "19                 7     Miercoles      Maquina 2                 06:40   \n",
            "20                13     Miercoles      Maquina 1                 06:45   \n",
            "21                 2     Miercoles      Maquina 0                 07:15   \n",
            "22                23     Miercoles      Maquina 2                 07:48   \n",
            "23                32     Miercoles      Maquina 1                 08:07   \n",
            "24                33     Miercoles      Maquina 0                 08:34   \n",
            "25                 9     Miercoles      Maquina 2                 08:34   \n",
            "26                27        Jueves      Maquina 0                 06:00   \n",
            "27                 5        Jueves      Maquina 1                 06:00   \n",
            "28                34        Jueves      Maquina 2                 06:00   \n",
            "29                14        Jueves      Maquina 0                 06:30   \n",
            "30                26        Jueves      Maquina 1                 06:33   \n",
            "31                24        Jueves      Maquina 2                 06:46   \n",
            "32                 4        Jueves      Maquina 0                 07:10   \n",
            "33                16        Jueves      Maquina 1                 07:25   \n",
            "34                 8        Jueves      Maquina 2                 07:53   \n",
            "\n",
            "   Fase 1 Hora de Fin Horno Fase 2 Fase 2 Hora de Inicio Fase 2 Hora de Fin  \\\n",
            "0               07:27      Horno 3                 07:27              10:35   \n",
            "1               06:18      Horno 4                 06:18              07:12   \n",
            "2               07:15      Horno 4                 07:15              09:49   \n",
            "3               07:29      Horno 4                 09:49              12:40   \n",
            "4               07:55      Horno 3                 10:35              11:45   \n",
            "5               08:47      Horno 3                 11:45              15:30   \n",
            "6               08:42      Horno 4                 12:40              15:06   \n",
            "7               08:49      Horno 4                 15:06              17:16   \n",
            "8               10:04      Horno 3                 15:30              19:06   \n",
            "9               07:19      Horno 3                 07:19              11:19   \n",
            "10              06:26      Horno 4                 06:26              07:56   \n",
            "11              06:33      Horno 4                 07:56              09:30   \n",
            "12              07:56      Horno 4                 09:30              12:30   \n",
            "13              07:47      Horno 3                 11:19              13:56   \n",
            "14              08:45      Horno 4                 12:30              17:00   \n",
            "15              08:47      Horno 3                 13:56              16:44   \n",
            "16              07:15      Horno 3                 07:15              11:00   \n",
            "17              06:45      Horno 4                 06:45              09:30   \n",
            "18              06:40      Horno 4                 09:30              12:05   \n",
            "19              07:48      Horno 3                 11:00              15:00   \n",
            "20              08:07      Horno 4                 12:05              14:57   \n",
            "21              08:34      Horno 4                 14:57              16:59   \n",
            "22              08:34      Horno 3                 15:00              16:36   \n",
            "23              08:56      Horno 3                 16:36              18:48   \n",
            "24              09:40      Horno 4                 16:59              20:14   \n",
            "25              09:37      Horno 3                 18:48              20:39   \n",
            "26              06:30      Horno 3                 06:30              08:00   \n",
            "27              06:33      Horno 4                 06:33              07:58   \n",
            "28              06:46      Horno 4                 07:58              11:13   \n",
            "29              07:10      Horno 3                 08:00              09:24   \n",
            "30              07:25      Horno 3                 09:24              12:09   \n",
            "31              07:53      Horno 4                 11:13              14:03   \n",
            "32              08:25      Horno 3                 12:09              15:24   \n",
            "33              08:46      Horno 4                 14:03              17:27   \n",
            "34              08:32      Horno 3                 15:24              17:00   \n",
            "\n",
            "   Maquina Fase 3 Fase 3 Hora de Inicio Fase 3 Hora de Fin Dia de salida  \\\n",
            "0       Maquina 5                 10:35              11:46         Lunes   \n",
            "1       Maquina 6                 07:12              07:30         Lunes   \n",
            "2       Maquina 7                 09:49              11:10         Lunes   \n",
            "3       Maquina 6                 12:40              13:56         Lunes   \n",
            "4       Maquina 7                 11:45              12:22         Lunes   \n",
            "5       Maquina 5                 15:30              16:44         Lunes   \n",
            "6       Maquina 7                 15:06              16:36         Lunes   \n",
            "7       Maquina 6                 17:16              18:12         Lunes   \n",
            "8       Maquina 7                 19:06              20:36         Lunes   \n",
            "9       Maquina 5                 11:19              12:34        Martes   \n",
            "10      Maquina 6                 07:56              08:21        Martes   \n",
            "11      Maquina 7                 09:30              10:03        Martes   \n",
            "12      Maquina 6                 12:30              14:24        Martes   \n",
            "13      Maquina 7                 13:56              14:54        Martes   \n",
            "14      Maquina 5                 17:00              18:54        Martes   \n",
            "15      Maquina 6                 16:44              17:42        Martes   \n",
            "16      Maquina 5                 11:00              12:06     Miercoles   \n",
            "17      Maquina 6                 09:30              10:11     Miercoles   \n",
            "18      Maquina 7                 12:05              13:04     Miercoles   \n",
            "19      Maquina 6                 15:00              16:07     Miercoles   \n",
            "20      Maquina 5                 14:57              16:45     Miercoles   \n",
            "21      Maquina 7                 16:59              18:11     Miercoles   \n",
            "22      Maquina 6                 16:36              17:15     Miercoles   \n",
            "23      Maquina 5                 18:48              19:40     Miercoles   \n",
            "24      Maquina 6                 20:14              21:20     Miercoles   \n",
            "25      Maquina 7                 20:39              21:45     Miercoles   \n",
            "26      Maquina 5                 08:00              08:27        Jueves   \n",
            "27      Maquina 6                 07:58              08:35        Jueves   \n",
            "28      Maquina 7                 11:13              12:10        Jueves   \n",
            "29      Maquina 5                 09:24              10:05        Jueves   \n",
            "30      Maquina 6                 12:09              13:07        Jueves   \n",
            "31      Maquina 5                 14:03              15:39        Jueves   \n",
            "32      Maquina 7                 15:24              16:38        Jueves   \n",
            "33      Maquina 6                 17:27              18:35        Jueves   \n",
            "34      Maquina 5                 17:00              17:39        Jueves   \n",
            "\n",
            "   Hora de salida   Estatus  \n",
            "0           11:46  a tiempo  \n",
            "1           07:30  a tiempo  \n",
            "2           11:10  a tiempo  \n",
            "3           13:56  a tiempo  \n",
            "4           12:22  a tiempo  \n",
            "5           16:44  a tiempo  \n",
            "6           16:36  a tiempo  \n",
            "7           18:12  a tiempo  \n",
            "8           20:36  a tiempo  \n",
            "9           12:34  a tiempo  \n",
            "10          08:21  a tiempo  \n",
            "11          10:03  a tiempo  \n",
            "12          14:24  a tiempo  \n",
            "13          14:54  a tiempo  \n",
            "14          18:54  a tiempo  \n",
            "15          17:42  a tiempo  \n",
            "16          12:06  a tiempo  \n",
            "17          10:11  a tiempo  \n",
            "18          13:04  a tiempo  \n",
            "19          16:07  a tiempo  \n",
            "20          16:45  a tiempo  \n",
            "21          18:11  a tiempo  \n",
            "22          17:15  a tiempo  \n",
            "23          19:40  a tiempo  \n",
            "24          21:20  a tiempo  \n",
            "25          21:45  a tiempo  \n",
            "26          08:27  a tiempo  \n",
            "27          08:35  a tiempo  \n",
            "28          12:10  a tiempo  \n",
            "29          10:05  a tiempo  \n",
            "30          13:07  a tiempo  \n",
            "31          15:39  a tiempo  \n",
            "32          16:38  a tiempo  \n",
            "33          18:35  a tiempo  \n",
            "34          17:39  a tiempo  \n"
          ]
        }
      ],
      "source": [
        "pedidos_aleatorios2 = seleccion_aleatoria(df3)\n",
        "iteraciones(pedidos_aleatorios2, df4, max_iteraciones=100)"
      ]
    },
    {
      "cell_type": "markdown",
      "metadata": {
        "id": "saFBaDbZMsFc"
      },
      "source": [
        "# PRUEBA CON MUCHOS PEDIDOS\n",
        "\n",
        "MAXIMO 17 POR PEDIDO\n",
        "\n",
        "65 PEDIDOS\n",
        "\n",
        "14 PRODUCTOS\n",
        "\n",
        "RATE MAQUINAS (9-18)\n",
        "\n",
        "RATE HORNOS (4-8)"
      ]
    },
    {
      "cell_type": "code",
      "execution_count": null,
      "metadata": {
        "colab": {
          "base_uri": "https://localhost:8080/"
        },
        "id": "HPg1V2LvMySO",
        "outputId": "9bcceaba-e0e4-4166-9d62-358b4cd0e1ce"
      },
      "outputs": [
        {
          "output_type": "stream",
          "name": "stdout",
          "text": [
            "    IdExperimento  Cantidad   Fecha Limite   IdProducto\n",
            "0               0        13              5            3\n",
            "1               1        14              6            0\n",
            "2               2         5              3            4\n",
            "3               3        13              0           12\n",
            "4               4         7              3            9\n",
            "..            ...       ...            ...          ...\n",
            "60             60        16              4            5\n",
            "61             61         4              0           12\n",
            "62             62         6              1            7\n",
            "63             63         3              6            5\n",
            "64             64         8              1            8\n",
            "\n",
            "[65 rows x 4 columns]\n"
          ]
        }
      ],
      "source": [
        "df5 = pd.read_csv('PEDIDOS3.csv')\n",
        "df5.drop(\"IdPedido\",axis = 1,inplace=True)\n",
        "print(df5)"
      ]
    },
    {
      "cell_type": "code",
      "execution_count": null,
      "metadata": {
        "colab": {
          "base_uri": "https://localhost:8080/"
        },
        "id": "j-826VUhMySP",
        "outputId": "8d695d3b-eb59-4535-fb96-90350732c3ed"
      },
      "outputs": [
        {
          "output_type": "stream",
          "name": "stdout",
          "text": [
            "     IdMaquina  IdProducto  Rate\n",
            "0            0           0    14\n",
            "1            0           1    14\n",
            "2            0           2    13\n",
            "3            0           3    14\n",
            "4            0           4    15\n",
            "..         ...         ...   ...\n",
            "107          7           9    14\n",
            "108          7          10    17\n",
            "109          7          11    10\n",
            "110          7          12    14\n",
            "111          7          13    14\n",
            "\n",
            "[112 rows x 3 columns]\n"
          ]
        }
      ],
      "source": [
        "df6 = pd.read_csv('RATES3.csv')\n",
        "print(df6)"
      ]
    },
    {
      "cell_type": "code",
      "execution_count": null,
      "metadata": {
        "colab": {
          "base_uri": "https://localhost:8080/"
        },
        "id": "6QB1ek-_MySP",
        "outputId": "6882ec1c-f5f2-41df-bee1-81e478ecedaa"
      },
      "outputs": [
        {
          "output_type": "stream",
          "name": "stdout",
          "text": [
            "\n",
            "Mejor solución encontrada con 7 pedidos tardíos\n",
            "    Numero de pedido Dia de inicio Maquina Fase 1 Fase 1 Hora de Inicio  \\\n",
            "0                 51         Lunes      Maquina 0                 06:00   \n",
            "1                 52         Lunes      Maquina 1                 06:00   \n",
            "2                 26         Lunes      Maquina 2                 06:00   \n",
            "3                 17         Lunes      Maquina 0                 06:12   \n",
            "4                  9         Lunes      Maquina 2                 06:14   \n",
            "..               ...           ...            ...                   ...   \n",
            "60                38        Sabado      Maquina 2                 06:12   \n",
            "61                54        Sabado      Maquina 0                 06:42   \n",
            "62                20        Sabado      Maquina 1                 07:13   \n",
            "63                39        Sabado      Maquina 0                 07:31   \n",
            "64                43        Sabado      Maquina 2                 07:46   \n",
            "\n",
            "   Fase 1 Hora de Fin Horno Fase 2 Fase 2 Hora de Inicio Fase 2 Hora de Fin  \\\n",
            "0               06:12      Horno 3                 06:12              06:47   \n",
            "1               06:34      Horno 4                 06:34              07:59   \n",
            "2               06:14      Horno 3                 06:47              08:48   \n",
            "3               07:37      Horno 4                 07:59              10:59   \n",
            "4               07:14      Horno 3                 08:48              11:03   \n",
            "..                ...          ...                   ...                ...   \n",
            "60              07:46      Horno 4                 09:03              13:48   \n",
            "61              07:31      Horno 3                 10:01              13:01   \n",
            "62              08:38      Horno 3                 13:01              15:51   \n",
            "63              08:46      Horno 4                 13:48              16:48   \n",
            "64              08:33      Horno 3                 15:51              18:25   \n",
            "\n",
            "   Maquina Fase 3 Fase 3 Hora de Inicio Fase 3 Hora de Fin Dia de salida  \\\n",
            "0       Maquina 5                 06:47              07:07         Lunes   \n",
            "1       Maquina 6                 07:59              08:29         Lunes   \n",
            "2       Maquina 7                 08:48              09:05         Lunes   \n",
            "3       Maquina 5                 10:59              12:29         Lunes   \n",
            "4       Maquina 6                 11:03              12:03         Lunes   \n",
            "..            ...                   ...                ...           ...   \n",
            "60      Maquina 5                 13:48              15:11        Sabado   \n",
            "61      Maquina 6                 13:01              15:04        Sabado   \n",
            "62      Maquina 7                 15:51              17:34        Sabado   \n",
            "63      Maquina 6                 16:48              18:09        Sabado   \n",
            "64      Maquina 5                 18:25              19:04        Sabado   \n",
            "\n",
            "   Hora de salida   Estatus  \n",
            "0           07:07  a tiempo  \n",
            "1           08:29  a tiempo  \n",
            "2           09:05  a tiempo  \n",
            "3           12:29  a tiempo  \n",
            "4           12:03  a tiempo  \n",
            "..            ...       ...  \n",
            "60          15:11  a tiempo  \n",
            "61          15:04  a tiempo  \n",
            "62          17:34  a tiempo  \n",
            "63          18:09  a tiempo  \n",
            "64          19:04  a tiempo  \n",
            "\n",
            "[65 rows x 14 columns]\n"
          ]
        }
      ],
      "source": [
        "pedidos_aleatorios3 = seleccion_aleatoria(df5)\n",
        "iteraciones(pedidos_aleatorios3, df6, max_iteraciones=10000)"
      ]
    },
    {
      "cell_type": "markdown",
      "metadata": {
        "id": "TzXnLD0hzwi4"
      },
      "source": [
        "# CASO EXTREMO\n",
        "\n",
        "MAXIMO 18 POR PEDIDO\n",
        "\n",
        "100 PEDIDOS\n",
        "\n",
        "14 PRODUCTOS\n",
        "\n",
        "RATE MAQUINAS (8-17)\n",
        "\n",
        "RATE HORNOS (3-7)"
      ]
    },
    {
      "cell_type": "code",
      "execution_count": null,
      "metadata": {
        "colab": {
          "base_uri": "https://localhost:8080/"
        },
        "id": "dNlZy9mJ0AVQ",
        "outputId": "f18a4bee-1170-446a-8bc8-c21e40cb760a"
      },
      "outputs": [
        {
          "output_type": "stream",
          "name": "stdout",
          "text": [
            "    IdExperimento  Cantidad   Fecha Limite   IdProducto\n",
            "0               0         1              6            5\n",
            "1               1        17              3            4\n",
            "2               2        17              4            3\n",
            "3               3        16              0            1\n",
            "4               4        10              0            8\n",
            "..            ...       ...            ...          ...\n",
            "95             95         1              3            5\n",
            "96             96        11              1            6\n",
            "97             97        13              2           12\n",
            "98             98         1              2           13\n",
            "99             99         3              6            9\n",
            "\n",
            "[100 rows x 4 columns]\n"
          ]
        }
      ],
      "source": [
        "df7 = pd.read_csv('PEDIDOS4.csv')\n",
        "df7.drop(\"IdPedido\",axis = 1,inplace=True)\n",
        "print(df7)"
      ]
    },
    {
      "cell_type": "code",
      "execution_count": null,
      "metadata": {
        "colab": {
          "base_uri": "https://localhost:8080/"
        },
        "id": "p8NN37GN0AVR",
        "outputId": "24cbf6da-4b27-4fb1-9252-f4fee6c8ec58"
      },
      "outputs": [
        {
          "output_type": "stream",
          "name": "stdout",
          "text": [
            "     IdMaquina  IdProducto  Rate\n",
            "0            0           0    11\n",
            "1            0           1    11\n",
            "2            0           2    14\n",
            "3            0           3    15\n",
            "4            0           4    11\n",
            "..         ...         ...   ...\n",
            "107          7           9    14\n",
            "108          7          10    13\n",
            "109          7          11    11\n",
            "110          7          12    14\n",
            "111          7          13    14\n",
            "\n",
            "[112 rows x 3 columns]\n"
          ]
        }
      ],
      "source": [
        "df8 = pd.read_csv('RATES4.csv')\n",
        "print(df8)"
      ]
    },
    {
      "cell_type": "code",
      "execution_count": null,
      "metadata": {
        "id": "GDywAB_a0AVR",
        "colab": {
          "base_uri": "https://localhost:8080/"
        },
        "outputId": "61e9d199-7198-401a-e804-4d72ebeebfd9"
      },
      "outputs": [
        {
          "output_type": "stream",
          "name": "stdout",
          "text": [
            "\n",
            "Mejor solución encontrada con 58 pedidos tardíos\n",
            "    Numero de pedido Dia de inicio Maquina Fase 1 Fase 1 Hora de Inicio  \\\n",
            "0                 52         Lunes      Maquina 0                 06:00   \n",
            "1                 82         Lunes      Maquina 1                 06:00   \n",
            "2                 36         Lunes      Maquina 2                 06:00   \n",
            "3                 90         Lunes      Maquina 1                 06:17   \n",
            "4                 22         Lunes      Maquina 2                 06:19   \n",
            "..               ...           ...            ...                   ...   \n",
            "95                99       Viernes      Maquina 2                 07:15   \n",
            "96                88       Viernes      Maquina 0                 07:32   \n",
            "97                80       Viernes      Maquina 2                 07:58   \n",
            "98                18        Sabado      Maquina 0                 06:00   \n",
            "99                20        Sabado      Maquina 1                 06:00   \n",
            "\n",
            "   Fase 1 Hora de Fin Horno Fase 2 Fase 2 Hora de Inicio Fase 2 Hora de Fin  \\\n",
            "0               07:00      Horno 3                 07:00              08:49   \n",
            "1               06:17      Horno 4                 06:17              07:17   \n",
            "2               06:19      Horno 4                 07:17              08:02   \n",
            "3               06:53      Horno 4                 08:02              09:22   \n",
            "4               07:45      Horno 3                 08:49              13:04   \n",
            "..                ...          ...                   ...                ...   \n",
            "95              07:58      Horno 3                 11:47              13:47   \n",
            "96              09:02      Horno 3                 13:47              18:02   \n",
            "97              08:33      Horno 4                 16:00              17:09   \n",
            "98              07:37      Horno 3                 07:37              10:52   \n",
            "99              06:30      Horno 4                 06:30              07:45   \n",
            "\n",
            "   Maquina Fase 3 Fase 3 Hora de Inicio Fase 3 Hora de Fin Dia de salida  \\\n",
            "0       Maquina 5                 08:49              10:12         Lunes   \n",
            "1       Maquina 6                 07:17              07:35         Lunes   \n",
            "2       Maquina 7                 08:02              08:15         Lunes   \n",
            "3       Maquina 6                 09:22              09:58         Lunes   \n",
            "4       Maquina 7                 13:04              14:34         Lunes   \n",
            "..            ...                   ...                ...           ...   \n",
            "95      Maquina 7                 13:47              14:30       Viernes   \n",
            "96      Maquina 5                 18:02              19:24       Viernes   \n",
            "97      Maquina 7                 17:09              17:45       Viernes   \n",
            "98      Maquina 5                 10:52              11:44        Sabado   \n",
            "99      Maquina 6                 07:45              08:08        Sabado   \n",
            "\n",
            "   Hora de salida         Estatus  \n",
            "0           10:12        a tiempo  \n",
            "1           07:35        a tiempo  \n",
            "2           08:15        a tiempo  \n",
            "3           09:58        a tiempo  \n",
            "4           14:34        a tiempo  \n",
            "..            ...             ...  \n",
            "95          14:30  entrega tardia  \n",
            "96          19:24  entrega tardia  \n",
            "97          17:45  entrega tardia  \n",
            "98          11:44  entrega tardia  \n",
            "99          08:08  entrega tardia  \n",
            "\n",
            "[100 rows x 14 columns]\n"
          ]
        }
      ],
      "source": [
        "pedidos_aleatorios4 = seleccion_aleatoria(df7)\n",
        "iteraciones(pedidos_aleatorios4, df8, max_iteraciones=15000)"
      ]
    }
  ],
  "metadata": {
    "accelerator": "TPU",
    "colab": {
      "gpuType": "V28",
      "provenance": []
    },
    "kernelspec": {
      "display_name": "Python 3",
      "name": "python3"
    },
    "language_info": {
      "name": "python"
    }
  },
  "nbformat": 4,
  "nbformat_minor": 0
}